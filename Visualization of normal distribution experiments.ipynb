{
 "cells": [
  {
   "cell_type": "markdown",
   "metadata": {},
   "source": [
    "# Visualization of normal distribution experiments\n",
    "\n",
    "It is easy to make normal distribution but how to visualization of normal distribution experiments?\n",
    "\n",
    "For everybody who come here only for pure plot i have a code:"
   ]
  },
  {
   "cell_type": "code",
   "execution_count": 10,
   "metadata": {
    "scrolled": true
   },
   "outputs": [
    {
     "data": {
      "image/png": "[encoded data removed]",
      "text/plain": [
       "<Figure size 432x288 with 1 Axes>"
      ]
     },
     "metadata": {
      "needs_background": "light"
     },
     "output_type": "display_data"
    }
   ],
   "source": [
    "from scipy.stats import norm\n",
    "import numpy as np\n",
    "import matplotlib.pyplot as plt\n",
    "\n",
    "x= np.arange(-3,3,0.05)\n",
    "plt.plot(x, norm.pdf(x))\n",
    "\n",
    "plt.show()"
   ]
  },
  {
   "cell_type": "markdown",
   "metadata": {},
   "source": [
    "For everybody who interested in experiments with normal distribution in Python I invite to below code:"
   ]
  },
  {
   "cell_type": "code",
   "execution_count": 2,
   "metadata": {},
   "outputs": [
    {
     "data": {
      "text/plain": [
       "3"
      ]
     },
     "execution_count": 2,
     "metadata": {},
     "output_type": "execute_result"
    }
   ],
   "source": [
    "import numpy as np\n",
    "import pandas as pd\n",
    "import random\n",
    "import matplotlib.pyplot as plt \n",
    "\n",
    "# we get same random numer 42\n",
    "np.random.seed(42)\n",
    "# number of trial in one experiment\n",
    "n = 7\n",
    "# Probability of defined phenomen. Throw a coin: likelihood to get head is 50%. p=0.5\n",
    "p = 0.5\n",
    "# The coin was thrown 7 times. Three times was hit head.\n",
    "np.random.binomial(n, p)"
   ]
  },
  {
   "cell_type": "markdown",
   "metadata": {},
   "source": [
    "Powtórzmy nasz eksperyment rzucania monetą 100 razy, w którym w każdym eksperymencie rzucamy uczciwą monetą 10 razy. Zapytajmy, Experiment on the normal distribution according to classical approach has poor quality if it is done couple of times. \n",
    "Quality of statistic experiment increase when experiment is repeat hundreds of times. \n",
    "\n",
    "Below module gives possibility to define number of repeat.\n",
    "\n",
    "Experiment of 7 times of throw will be repeated defined number of times (for example 100 times)."
   ]
  },
  {
   "cell_type": "code",
   "execution_count": 3,
   "metadata": {},
   "outputs": [
    {
     "name": "stdout",
     "output_type": "stream",
     "text": [
      "[6 4 4 2 2 1 5 4 4 1 6 5 2 2 2 3 4 3 3 4 2 3 3 3 5 2 4 4 1 4 2 2 6 6 5 3 2\n",
      " 4 3 2 3 1 5 3 4 3 4 4 2 6 5 6 5 4 5 2 2 1 3 3 3 5 3 3 4 2 5 2 6 4 2 0 5 4\n",
      " 4 4 2 3 2 5 4 3 2 3 3 4 4 5 3 2 4 4 4 4 3 4 3 1 2 1]\n"
     ]
    }
   ],
   "source": [
    "size=100\n",
    "x=np.random.binomial(n=n, p=p, size=size)\n",
    "print(x)"
   ]
  },
  {
   "cell_type": "markdown",
   "metadata": {},
   "source": [
    "This matrix shows of results of 100 repeats experiment. Each experiment consists on 7 throws of coin. In first experiment was 6 heads on the 7 throws."
   ]
  },
  {
   "cell_type": "code",
   "execution_count": 4,
   "metadata": {},
   "outputs": [
    {
     "data": {
      "text/plain": [
       "[1, 7, 22, 23, 27, 13, 7]"
      ]
     },
     "execution_count": 4,
     "metadata": {},
     "output_type": "execute_result"
    }
   ],
   "source": [
    "[np.equal(x,i).sum() for i in range(n)]"
   ]
  },
  {
   "cell_type": "markdown",
   "metadata": {},
   "source": [
    "There are 7 throws of one experiments. This code show how many heads were on 7 throws of coin.\n",
    "\n",
    "First position is 1, that mean one time was 1 head for 7 throws in 100 repeats of experiment.\n",
    "Second position is 7, that mean 7 on 100 repeat times was 2 heads on 7 throws.\n",
    "\n",
    "Third position is 22, that mean 22 times on 100 repeats of experiment, was 3 heads on 7 throws.\n",
    "\n",
    "23, that mean 23 times was 4 on 100 repeats of experiment that consisted of 7 throws of coin."
   ]
  },
  {
   "cell_type": "code",
   "execution_count": 5,
   "metadata": {},
   "outputs": [
    {
     "name": "stdout",
     "output_type": "stream",
     "text": [
      "[0.01, 0.07, 0.22, 0.23, 0.27, 0.13, 0.07]\n"
     ]
    }
   ],
   "source": [
    "probs = [np.equal(x,i).mean() for i in range(n)]\n",
    "print(probs)"
   ]
  },
  {
   "cell_type": "markdown",
   "metadata": {},
   "source": [
    "This is probability of results. For example 23 times was 3 head in experiment of 7 throws repeated 100 times. So we take 23/100 = 0.23 of likelihood."
   ]
  },
  {
   "cell_type": "code",
   "execution_count": 6,
   "metadata": {},
   "outputs": [
    {
     "data": {
      "text/plain": [
       "Text(0,0.5,'Probability')"
      ]
     },
     "execution_count": 6,
     "metadata": {},
     "output_type": "execute_result"
    },
    {
     "data": {
      "image/png": "[encoded data removed]",
      "text/plain": [
       "<Figure size 432x288 with 1 Axes>"
      ]
     },
     "metadata": {
      "needs_background": "light"
     },
     "output_type": "display_data"
    }
   ],
   "source": [
    "plt.xticks(range(n))\n",
    "plt.plot(list(range(n)), probs, color='blue', marker='o')\n",
    "plt.xlabel('Number of Heads',fontsize=14)\n",
    "plt.ylabel('Probability',fontsize=14)"
   ]
  },
  {
   "cell_type": "markdown",
   "metadata": {},
   "source": [
    "At the end usefull function."
   ]
  },
  {
   "cell_type": "code",
   "execution_count": 7,
   "metadata": {},
   "outputs": [
    {
     "data": {
      "text/plain": [
       "array([ True, False, False,  True,  True])"
      ]
     },
     "execution_count": 7,
     "metadata": {},
     "output_type": "execute_result"
    }
   ],
   "source": [
    "a = np.array([1, 2, 3, 4, 5])\n",
    "b = np.array([1, 3, 2, 4, 5])\n",
    "\n",
    "np.equal(a,b)"
   ]
  },
  {
   "cell_type": "code",
   "execution_count": 8,
   "metadata": {},
   "outputs": [
    {
     "data": {
      "text/plain": [
       "0.6"
      ]
     },
     "execution_count": 8,
     "metadata": {},
     "output_type": "execute_result"
    }
   ],
   "source": [
    "np.equal(a,b).mean()"
   ]
  },
  {
   "cell_type": "markdown",
   "metadata": {},
   "source": [
    "0.6, that mean of level of fit two arrows. Three numbers was the same, two was inconsistent."
   ]
  }
 ],
 "metadata": {
  "kernelspec": {
   "display_name": "Python 3",
   "language": "python",
   "name": "python3"
  },
  "language_info": {
   "codemirror_mode": {
    "name": "ipython",
    "version": 3
   },
   "file_extension": ".py",
   "mimetype": "text/x-python",
   "name": "python",
   "nbconvert_exporter": "python",
   "pygments_lexer": "ipython3",
   "version": "3.6.8"
  }
 },
 "nbformat": 4,
 "nbformat_minor": 2
}
